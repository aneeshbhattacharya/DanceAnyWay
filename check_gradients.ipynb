{
 "cells": [
  {
   "cell_type": "code",
   "execution_count": 27,
   "metadata": {},
   "outputs": [],
   "source": [
    "import torch\n",
    "import torch.optim as optim\n",
    "import torch.nn as nn\n",
    "import torch.nn.functional as F\n",
    "\n",
    "import math\n",
    "\n",
    "import time\n",
    "import numpy as np\n",
    "from speech2affective_gestures.net.utils.graph import Graph\n",
    "from speech2affective_gestures.net.utils.tgcn import STGraphConv, STGraphConvTranspose\n",
    "import shutil\n",
    "\n",
    "import librosa\n",
    "from librosa.feature import mfcc\n",
    "import numpy as np\n",
    "from scipy.interpolate import interp1d\n",
    "from sklearn.preprocessing import normalize\n",
    "\n",
    "import random\n",
    "\n",
    "from Model_Components.m2ad_pose_repletion_net import PoseSeq2SeqGenerator, AffDiscriminator\n",
    "\n",
    "encoder_args = {\n",
    "    'hidden_size':256,\n",
    "    'n_layers':5,\n",
    "    'dropout_prob':0.4\n",
    "}\n",
    "\n",
    "decoder_args = {\n",
    "    'hidden_size':256,\n",
    "    'n_layers':5,\n",
    "    'dropout_prob':0.4\n",
    "}\n",
    "device = 'cuda'\n",
    "s2ag_generator = PoseSeq2SeqGenerator(encoder_args, decoder_args, 440, 37, 440, 12, 2, 100).to(device=device)\n",
    "s2ag_discriminator = AffDiscriminator(2,100, 16).to(device=device)\n",
    "\n"
   ]
  },
  {
   "cell_type": "code",
   "execution_count": 28,
   "metadata": {},
   "outputs": [
    {
     "data": {
      "text/plain": [
       "<All keys matched successfully>"
      ]
     },
     "execution_count": 28,
     "metadata": {},
     "output_type": "execute_result"
    }
   ],
   "source": [
    "s2ag_generator.load_state_dict(torch.load('./BN_RN_TFModif/M2AD_Gen11_ep6_10FPS'))\n",
    "s2ag_discriminator.load_state_dict(torch.load('./BN_RN_TFModif/M2AD_Disc11_ep6_10FPS'))"
   ]
  },
  {
   "cell_type": "code",
   "execution_count": 29,
   "metadata": {},
   "outputs": [
    {
     "name": "stdout",
     "output_type": "stream",
     "text": [
      "\n",
      "encoder\n",
      "encoder.audio_encoder\n",
      "encoder.audio_encoder.conv1\n",
      "encoder.audio_encoder.batch_norm1\n",
      "encoder.audio_encoder.conv2\n",
      "encoder.audio_encoder.batch_norm2\n",
      "encoder.audio_encoder.conv3\n",
      "encoder.audio_encoder.batch_norm3\n",
      "encoder.audio_encoder.conv4\n",
      "encoder.audio_encoder.batch_norm4\n",
      "encoder.audio_encoder.linear1\n",
      "encoder.audio_encoder.activation\n",
      "encoder.chroma_encoder\n",
      "encoder.chroma_encoder.conv1\n",
      "encoder.chroma_encoder.batch_norm1\n",
      "encoder.chroma_encoder.conv2\n",
      "encoder.chroma_encoder.batch_norm2\n",
      "encoder.chroma_encoder.conv3\n",
      "encoder.chroma_encoder.batch_norm3\n",
      "encoder.chroma_encoder.conv4\n",
      "encoder.chroma_encoder.batch_norm4\n",
      "encoder.chroma_encoder.linear1\n",
      "encoder.chroma_encoder.activation\n",
      "encoder.aff_encoder\n",
      "encoder.aff_encoder.st_gcn1\n",
      "encoder.aff_encoder.st_gcn1.gcn\n",
      "encoder.aff_encoder.st_gcn1.gcn.conv\n",
      "encoder.aff_encoder.st_gcn1.tcn\n",
      "encoder.aff_encoder.st_gcn1.tcn.0\n",
      "encoder.aff_encoder.st_gcn1.tcn.1\n",
      "encoder.aff_encoder.st_gcn1.tcn.2\n",
      "encoder.aff_encoder.st_gcn1.tcn.3\n",
      "encoder.aff_encoder.st_gcn1.tcn.4\n",
      "encoder.aff_encoder.st_gcn1.residual\n",
      "encoder.aff_encoder.st_gcn1.residual.0\n",
      "encoder.aff_encoder.st_gcn1.residual.1\n",
      "encoder.aff_encoder.st_gcn1.activation\n",
      "encoder.aff_encoder.batch_norm1\n",
      "encoder.aff_encoder.st_gcn2\n",
      "encoder.aff_encoder.st_gcn2.gcn\n",
      "encoder.aff_encoder.st_gcn2.gcn.conv\n",
      "encoder.aff_encoder.st_gcn2.tcn\n",
      "encoder.aff_encoder.st_gcn2.tcn.0\n",
      "encoder.aff_encoder.st_gcn2.tcn.1\n",
      "encoder.aff_encoder.st_gcn2.tcn.2\n",
      "encoder.aff_encoder.st_gcn2.tcn.3\n",
      "encoder.aff_encoder.st_gcn2.tcn.4\n",
      "encoder.aff_encoder.st_gcn2.residual\n",
      "encoder.aff_encoder.st_gcn2.residual.0\n",
      "encoder.aff_encoder.st_gcn2.residual.1\n",
      "encoder.aff_encoder.st_gcn2.activation\n",
      "encoder.aff_encoder.batch_norm2\n",
      "encoder.aff_encoder.conv3\n",
      "encoder.aff_encoder.batch_norm3\n",
      "encoder.aff_encoder.conv4\n",
      "encoder.aff_encoder.batch_norm4\n",
      "encoder.aff_encoder.activation\n",
      "encoder.lstm\n",
      "decoder\n",
      "decoder.aff_encoder\n",
      "decoder.aff_encoder.st_gcn1\n",
      "decoder.aff_encoder.st_gcn1.gcn\n",
      "decoder.aff_encoder.st_gcn1.gcn.conv\n",
      "decoder.aff_encoder.st_gcn1.tcn\n",
      "decoder.aff_encoder.st_gcn1.tcn.0\n",
      "decoder.aff_encoder.st_gcn1.tcn.1\n",
      "decoder.aff_encoder.st_gcn1.tcn.2\n",
      "decoder.aff_encoder.st_gcn1.tcn.3\n",
      "decoder.aff_encoder.st_gcn1.tcn.4\n",
      "decoder.aff_encoder.st_gcn1.residual\n",
      "decoder.aff_encoder.st_gcn1.residual.0\n",
      "decoder.aff_encoder.st_gcn1.residual.1\n",
      "decoder.aff_encoder.st_gcn1.activation\n",
      "decoder.aff_encoder.batch_norm1\n",
      "decoder.aff_encoder.st_gcn2\n",
      "decoder.aff_encoder.st_gcn2.gcn\n",
      "decoder.aff_encoder.st_gcn2.gcn.conv\n",
      "decoder.aff_encoder.st_gcn2.tcn\n",
      "decoder.aff_encoder.st_gcn2.tcn.0\n",
      "decoder.aff_encoder.st_gcn2.tcn.1\n",
      "decoder.aff_encoder.st_gcn2.tcn.2\n",
      "decoder.aff_encoder.st_gcn2.tcn.3\n",
      "decoder.aff_encoder.st_gcn2.tcn.4\n",
      "decoder.aff_encoder.st_gcn2.residual\n",
      "decoder.aff_encoder.st_gcn2.residual.0\n",
      "decoder.aff_encoder.st_gcn2.residual.1\n",
      "decoder.aff_encoder.st_gcn2.activation\n",
      "decoder.aff_encoder.batch_norm2\n",
      "decoder.aff_encoder.conv3\n",
      "decoder.aff_encoder.batch_norm3\n",
      "decoder.aff_encoder.conv4\n",
      "decoder.aff_encoder.batch_norm4\n",
      "decoder.aff_encoder.activation\n",
      "decoder.lstm\n",
      "decoder.out\n",
      "decoder.out.0\n",
      "decoder.out.1\n",
      "decoder.out.2\n",
      "decoder.out.3\n"
     ]
    }
   ],
   "source": [
    "for name, layer in s2ag_generator.named_modules():\n",
    "    print(name)"
   ]
  },
  {
   "cell_type": "code",
   "execution_count": 30,
   "metadata": {},
   "outputs": [
    {
     "data": {
      "text/plain": [
       "Parameter containing:\n",
       "tensor([[-0.0311,  0.0611,  0.0524,  ...,  0.0047,  0.0135,  0.0958],\n",
       "        [ 0.0413,  0.0309,  0.0668,  ...,  0.0485,  0.0689,  0.0137],\n",
       "        [-0.0136, -0.0277,  0.0326,  ...,  0.0262,  0.0183, -0.0461],\n",
       "        ...,\n",
       "        [-0.0502, -0.0755, -0.0661,  ...,  0.0404,  0.0035, -0.0703],\n",
       "        [-0.0411,  0.0570, -0.0661,  ..., -0.0294, -0.0042,  0.0594],\n",
       "        [-0.0395,  0.1009, -0.0478,  ..., -0.0556,  0.0433, -0.0152]],\n",
       "       device='cuda:0', requires_grad=True)"
      ]
     },
     "execution_count": 30,
     "metadata": {},
     "output_type": "execute_result"
    }
   ],
   "source": [
    "s2ag_generator.decoder.out[3].weight"
   ]
  }
 ],
 "metadata": {
  "kernelspec": {
   "display_name": "UMDTorch",
   "language": "python",
   "name": "python3"
  },
  "language_info": {
   "codemirror_mode": {
    "name": "ipython",
    "version": 3
   },
   "file_extension": ".py",
   "mimetype": "text/x-python",
   "name": "python",
   "nbconvert_exporter": "python",
   "pygments_lexer": "ipython3",
   "version": "3.7.13"
  },
  "orig_nbformat": 4,
  "vscode": {
   "interpreter": {
    "hash": "e47777ffa8217134a09e6dc1d83da80407f70cea6cb22200b6056362a8f8bab5"
   }
  }
 },
 "nbformat": 4,
 "nbformat_minor": 2
}
