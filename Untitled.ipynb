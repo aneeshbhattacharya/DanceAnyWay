{
 "cells": [
  {
   "cell_type": "code",
   "execution_count": 1,
   "id": "22ae7e6c",
   "metadata": {},
   "outputs": [],
   "source": [
    "import numpy as np"
   ]
  },
  {
   "cell_type": "code",
   "execution_count": 2,
   "id": "b0bd7378",
   "metadata": {},
   "outputs": [],
   "source": [
    "with open('./AIST_Train_data_with_root (copy).npy','rb') as f:\n",
    "    data = np.load(f)"
   ]
  },
  {
   "cell_type": "code",
   "execution_count": 3,
   "id": "e7ec9423",
   "metadata": {},
   "outputs": [
    {
     "data": {
      "text/plain": [
       "(856, 37, 440)"
      ]
     },
     "execution_count": 3,
     "metadata": {},
     "output_type": "execute_result"
    }
   ],
   "source": [
    "data.shape"
   ]
  }
 ],
 "metadata": {
  "kernelspec": {
   "display_name": "Python 3 (ipykernel)",
   "language": "python",
   "name": "python3"
  },
  "language_info": {
   "codemirror_mode": {
    "name": "ipython",
    "version": 3
   },
   "file_extension": ".py",
   "mimetype": "text/x-python",
   "name": "python",
   "nbconvert_exporter": "python",
   "pygments_lexer": "ipython3",
   "version": "3.7.13"
  }
 },
 "nbformat": 4,
 "nbformat_minor": 5
}
